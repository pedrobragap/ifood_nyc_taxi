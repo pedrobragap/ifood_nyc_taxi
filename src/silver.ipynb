{
 "cells": [
  {
   "cell_type": "code",
   "execution_count": 0,
   "metadata": {
    "application/vnd.databricks.v1+cell": {
     "cellMetadata": {
      "byteLimit": 2048000,
      "rowLimit": 10000
     },
     "inputWidgets": {},
     "nuid": "3b8b5bd8-534d-45a7-8106-ffe1e891eccb",
     "showTitle": false,
     "tableResultSettingsMap": {},
     "title": ""
    }
   },
   "outputs": [],
   "source": [
    "BRONZE_TABLE = 'bronze.nyc_taxi_trip_records'\n",
    "SILVER_TABLE = 'silver.nyc_taxi_trip_records'\n",
    "YEAR_FILTER  = 2023\n",
    "START_MONTH  = 1\n",
    "END_MONTH    = 5"
   ]
  },
  {
   "cell_type": "code",
   "execution_count": 0,
   "metadata": {
    "application/vnd.databricks.v1+cell": {
     "cellMetadata": {
      "byteLimit": 2048000,
      "rowLimit": 10000
     },
     "inputWidgets": {},
     "nuid": "591e02c0-92a0-460b-aceb-40bae4a30184",
     "showTitle": false,
     "tableResultSettingsMap": {},
     "title": ""
    }
   },
   "outputs": [],
   "source": [
    "import logging\n",
    "from pyspark.sql.functions import col, year, month\n",
    "\n",
    "spark.sql('CREATE DATABASE IF NOT EXISTS silver')\n",
    "spark.sql(f\"DROP TABLE IF EXISTS {SILVER_TABLE}\")\n",
    "\n",
    "df = spark.read.table(BRONZE_TABLE)\n",
    "\n",
    "df = df.filter(\n",
    "    (year(col('tpep_pickup_datetime')) == YEAR_FILTER) &\n",
    "    (month(col('tpep_pickup_datetime')).between(START_MONTH, END_MONTH) &\n",
    "     (col('total_amount') > 0) & \n",
    "     (col('passenger_count') > 0)\n",
    "     )\n",
    ")\n",
    "\n",
    "selected_cols = [\n",
    "    'VendorID',\n",
    "    'passenger_count',\n",
    "    'total_amount',\n",
    "    'tpep_pickup_datetime',\n",
    "    'tpep_dropoff_datetime',\n",
    "    'taxi_color',\n",
    "    'year',\n",
    "    'month'\n",
    "]\n",
    "df = df.select(*selected_cols)\n",
    "df = df.dropDuplicates()\n",
    "\n",
    "(\n",
    "    df.write\n",
    "        .format('delta')\n",
    "        .mode('append')\n",
    "        .option('mergeSchema', 'true')\n",
    "        .partitionBy('year', 'month')\n",
    "        .saveAsTable(SILVER_TABLE)\n",
    ")"
   ]
  }
 ],
 "metadata": {
  "application/vnd.databricks.v1+notebook": {
   "computePreferences": null,
   "dashboards": [],
   "environmentMetadata": {
    "base_environment": "",
    "environment_version": "2"
   },
   "inputWidgetPreferences": null,
   "language": "python",
   "notebookMetadata": {
    "pythonIndentUnit": 4
   },
   "notebookName": "silver",
   "widgets": {}
  },
  "language_info": {
   "name": "python"
  }
 },
 "nbformat": 4,
 "nbformat_minor": 0
}
