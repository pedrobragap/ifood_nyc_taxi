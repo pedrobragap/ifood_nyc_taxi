{
 "cells": [
  {
   "cell_type": "code",
   "execution_count": 0,
   "metadata": {
    "application/vnd.databricks.v1+cell": {
     "cellMetadata": {
      "byteLimit": 2048000,
      "rowLimit": 10000
     },
     "inputWidgets": {},
     "nuid": "ce8f47f6-647c-427a-ba74-00301bdf4017",
     "showTitle": false,
     "tableResultSettingsMap": {},
     "title": ""
    }
   },
   "outputs": [],
   "source": [
    "from pyspark.sql.types import LongType, DoubleType, TimestampType\n",
    "\n",
    "CASTS = {\n",
    "    \"VendorID\": LongType(),        \n",
    "    \"passenger_count\": LongType(),\n",
    "    \"tpep_pickup_datetime\": TimestampType(),\n",
    "    \"tpep_dropoff_datetime\": TimestampType(),\n",
    "    \"trip_distance\": DoubleType(), \n",
    "    \"RatecodeID\": LongType(),\n",
    "    \"PULocationID\": LongType(),    \n",
    "    \"DOLocationID\": LongType(),\n",
    "    \"payment_type\": LongType(),    \n",
    "    \"fare_amount\": DoubleType(),\n",
    "    \"extra\": DoubleType(),         \n",
    "    \"mta_tax\": DoubleType(),\n",
    "    \"tip_amount\": DoubleType(),    \n",
    "    \"tolls_amount\": DoubleType(),\n",
    "    \"improvement_surcharge\": DoubleType(),\n",
    "    \"total_amount\": DoubleType(),  \n",
    "    \"congestion_surcharge\": DoubleType(),\n",
    "    \"airport_fee\": DoubleType(),\n",
    "    \"trip_type\": LongType(),\n",
    "    \"ehail_fee\": LongType(),\n",
    "}"
   ]
  },
  {
   "cell_type": "code",
   "execution_count": 0,
   "metadata": {
    "application/vnd.databricks.v1+cell": {
     "cellMetadata": {
      "byteLimit": 2048000,
      "rowLimit": 10000
     },
     "inputWidgets": {},
     "nuid": "89c8bcaf-a4ba-424f-9ef9-c4abbd85983f",
     "showTitle": false,
     "tableResultSettingsMap": {},
     "title": ""
    }
   },
   "outputs": [],
   "source": [
    "import requests, os\n",
    "from pyspark.sql.functions import coalesce, col, to_timestamp, month, year, lit\n",
    "\n",
    "landing_path = \"/Volumes/workspace/default/landing/nyc_taxi_trip_records\"\n",
    "schema_name  = \"bronze\"\n",
    "table_name   = \"nyc_taxi_trip_records\"   \n",
    "\n",
    "spark.sql(f\"CREATE DATABASE IF NOT EXISTS {schema_name}\")\n",
    "spark.sql(f\"DROP TABLE IF EXISTS {schema_name}.{table_name}\")\n",
    "\n",
    "os.makedirs(landing_path, exist_ok=True)\n",
    "\n",
    "def ingest_to_bronze(parquet_file: str, taxi_color: str):\n",
    "    df = spark.read.parquet(parquet_file)\n",
    "\n",
    "    if taxi_color == \"green\":\n",
    "        df = (df\n",
    "              .withColumnRenamed(\"lpep_pickup_datetime\",  \"tpep_pickup_datetime\")\n",
    "              .withColumnRenamed(\"lpep_dropoff_datetime\", \"tpep_dropoff_datetime\"))\n",
    "\n",
    "    if \"Airport_fee\" in df.columns:\n",
    "        df = df.withColumn(\"airport_fee\", coalesce(col(\"airport_fee\"), col(\"Airport_fee\"))) \\\n",
    "               .drop(\"Airport_fee\")\n",
    "\n",
    "    if \"ehail_fee\" in df.columns:\n",
    "        df = df.drop(\"ehail_fee\")\n",
    "\n",
    "    if \"trip_type\" in df.columns:\n",
    "        df = df.withColumn(\"trip_type\", col(\"trip_type\").cast(\"integer\"))\n",
    "    else:\n",
    "        df = df.withColumn(\"trip_type\", lit(None))\n",
    "\n",
    "    \n",
    "    for c, t in CASTS.items():\n",
    "        df = df.withColumn(c, col(c).cast(t)) if c in df.columns else df\n",
    "\n",
    "    df = (\n",
    "        df\n",
    "        .withColumn(\"year\",       year(\"tpep_pickup_datetime\"))\n",
    "        .withColumn(\"month\",      month(\"tpep_pickup_datetime\"))\n",
    "        .withColumn(\"taxi_color\", lit(taxi_color))\n",
    "    )\n",
    "    (\n",
    "        df.write\n",
    "          .format(\"delta\")\n",
    "          .mode(\"append\")\n",
    "          .option(\"mergeSchema\", \"true\")\n",
    "          .partitionBy(\"year\", \"month\")\n",
    "          .saveAsTable(f\"{schema_name}.{table_name}\")  \n",
    "    )\n",
    "colors = [\"yellow\", \"green\"]\n",
    "\n",
    "for color in colors: \n",
    "    for m in range(1, 6):\n",
    "        url = f\"https://d37ci6vzurychx.cloudfront.net/trip-data/{color}_tripdata_2023-{m:02d}.parquet\"\n",
    "        local_fp  = f\"{landing_path}/{color}_tripdata_2023-{m:02d}.parquet\"\n",
    "\n",
    "        resp = requests.get(url)\n",
    "        resp.raise_for_status()\n",
    "        with open(local_fp, \"wb\") as f:\n",
    "            f.write(resp.content)  \n",
    "        ingest_to_bronze(local_fp, color)\n"
   ]
  }
 ],
 "metadata": {
  "application/vnd.databricks.v1+notebook": {
   "computePreferences": null,
   "dashboards": [],
   "environmentMetadata": {
    "base_environment": "",
    "environment_version": "2"
   },
   "inputWidgetPreferences": null,
   "language": "python",
   "notebookMetadata": {
    "pythonIndentUnit": 4
   },
   "notebookName": "bronze",
   "widgets": {}
  },
  "language_info": {
   "name": "python"
  }
 },
 "nbformat": 4,
 "nbformat_minor": 0
}
