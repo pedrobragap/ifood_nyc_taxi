{
 "cells": [
  {
   "cell_type": "code",
   "execution_count": 0,
   "metadata": {
    "application/vnd.databricks.v1+cell": {
     "cellMetadata": {
      "byteLimit": 2048000,
      "rowLimit": 10000
     },
     "inputWidgets": {},
     "nuid": "b04f2156-976c-4f95-93f4-4243260fb7a9",
     "showTitle": false,
     "tableResultSettingsMap": {},
     "title": ""
    }
   },
   "outputs": [],
   "source": [
    "from pyspark.sql.functions import avg, hour, col, format_number\n",
    "\n",
    "SILVER_TABLE = 'silver.nyc_taxi_trip_records'\n",
    "df = spark.read.table(SILVER_TABLE)\n"
   ]
  },
  {
   "cell_type": "markdown",
   "metadata": {
    "application/vnd.databricks.v1+cell": {
     "cellMetadata": {},
     "inputWidgets": {},
     "nuid": "8b7294fa-d79d-4368-822a-2e0cf2cec1f0",
     "showTitle": false,
     "tableResultSettingsMap": {},
     "title": ""
    }
   },
   "source": [
    "Qual a média de valor total (**total_amount**) recebido em um mês\n",
    "considerando todos os yellow táxis da frota?"
   ]
  },
  {
   "cell_type": "code",
   "execution_count": 0,
   "metadata": {
    "application/vnd.databricks.v1+cell": {
     "cellMetadata": {
      "byteLimit": 2048000,
      "rowLimit": 10000
     },
     "inputWidgets": {},
     "nuid": "d99f7c64-5fc5-4697-9f22-101b46c2d86b",
     "showTitle": false,
     "tableResultSettingsMap": {},
     "title": ""
    }
   },
   "outputs": [],
   "source": [
    "avg_by_month = (\n",
    "    df.filter(col('taxi_color') == 'yellow')\n",
    "      .groupBy(\"month\")\n",
    "      .agg(format_number(avg(\"total_amount\"), 2).alias(\"avg_total_amount\"))\n",
    "      .orderBy(\"month\")\n",
    ")\n",
    "\n",
    "display(avg_by_month)"
   ]
  },
  {
   "cell_type": "markdown",
   "metadata": {
    "application/vnd.databricks.v1+cell": {
     "cellMetadata": {},
     "inputWidgets": {},
     "nuid": "334b2c2a-4b27-4526-b2b9-f8a5dc1e599f",
     "showTitle": false,
     "tableResultSettingsMap": {},
     "title": ""
    }
   },
   "source": [
    "Qual a média de passageiros (**passenger_count**) por cada hora do dia\n",
    "que pegaram táxi no mês de maio considerando todos os táxis da\n",
    "frota?"
   ]
  },
  {
   "cell_type": "code",
   "execution_count": 0,
   "metadata": {
    "application/vnd.databricks.v1+cell": {
     "cellMetadata": {
      "byteLimit": 2048000,
      "rowLimit": 10000
     },
     "inputWidgets": {},
     "nuid": "5b22a35f-a449-41c6-9160-46c6693c657d",
     "showTitle": false,
     "tableResultSettingsMap": {},
     "title": ""
    }
   },
   "outputs": [],
   "source": [
    "\n",
    "avg_by_hour_may = (\n",
    "    df.filter(df.month == 5)\n",
    "      .withColumn(\"hour_of_day\", hour(\"tpep_pickup_datetime\"))\n",
    "      .groupBy(\"hour_of_day\")\n",
    "      .agg(format_number(avg(\"passenger_count\"), 2).alias(\"avg_passenger_count\"))\n",
    "      .orderBy(\"hour_of_day\")\n",
    ")\n",
    "\n",
    "print(\"📊 Média de passageiros por hora em Maio:\")\n",
    "display(avg_by_hour_may)"
   ]
  }
 ],
 "metadata": {
  "application/vnd.databricks.v1+notebook": {
   "computePreferences": null,
   "dashboards": [],
   "environmentMetadata": {
    "base_environment": "",
    "environment_version": "2"
   },
   "inputWidgetPreferences": null,
   "language": "python",
   "notebookMetadata": {
    "pythonIndentUnit": 4
   },
   "notebookName": "gold",
   "widgets": {}
  },
  "language_info": {
   "name": "python"
  }
 },
 "nbformat": 4,
 "nbformat_minor": 0
}
