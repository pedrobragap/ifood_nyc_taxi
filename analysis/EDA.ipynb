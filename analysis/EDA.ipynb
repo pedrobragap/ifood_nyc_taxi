{
 "cells": [
  {
   "cell_type": "code",
   "execution_count": 0,
   "metadata": {
    "application/vnd.databricks.v1+cell": {
     "cellMetadata": {
      "byteLimit": 2048000,
      "rowLimit": 10000
     },
     "inputWidgets": {},
     "nuid": "fa249de1-77f1-4fb9-a332-d3eeb10251ec",
     "showTitle": false,
     "tableResultSettingsMap": {},
     "title": ""
    }
   },
   "outputs": [],
   "source": [
    "import requests, os\n",
    "url = f\"https://d37ci6vzurychx.cloudfront.net/trip-data/green_tripdata_2023-05.parquet\"\n",
    "local_fp  = f\"/Volumes/workspace/default/landing/nyc_taxi_trip_records/green_tripdata_2023-05.parquet\"\n",
    "\n",
    "resp = requests.get(url)\n",
    "resp.raise_for_status()\n",
    "with open(local_fp, \"wb\") as f:\n",
    "    f.write(resp.content)  "
   ]
  },
  {
   "cell_type": "code",
   "execution_count": 0,
   "metadata": {
    "application/vnd.databricks.v1+cell": {
     "cellMetadata": {
      "byteLimit": 2048000,
      "rowLimit": 10000
     },
     "inputWidgets": {},
     "nuid": "b03e47e1-53fb-4148-94af-23a0ffb9bd24",
     "showTitle": false,
     "tableResultSettingsMap": {},
     "title": ""
    }
   },
   "outputs": [],
   "source": [
    "landing_path = \"/Volumes/workspace/default/landing/nyc_taxi_trip_records/\"\n",
    "files = [f.path for f in dbutils.fs.ls(landing_path) if f.path.endswith(\".parquet\")]\n",
    "\n",
    "for fp in files:\n",
    "    print(f\"\\n=== Schema de {fp} ===\")\n",
    "    spark.read.parquet(fp).printSchema()\n"
   ]
  },
  {
   "cell_type": "code",
   "execution_count": 0,
   "metadata": {
    "application/vnd.databricks.v1+cell": {
     "cellMetadata": {
      "byteLimit": 2048000,
      "rowLimit": 10000
     },
     "inputWidgets": {},
     "nuid": "193849af-f574-42b6-9410-6dfa9725093f",
     "showTitle": false,
     "tableResultSettingsMap": {},
     "title": ""
    }
   },
   "outputs": [],
   "source": []
  },
  {
   "cell_type": "code",
   "execution_count": 0,
   "metadata": {
    "application/vnd.databricks.v1+cell": {
     "cellMetadata": {},
     "inputWidgets": {},
     "nuid": "be23bc30-ca4f-4c62-a548-9f1db9bd4cf5",
     "showTitle": false,
     "tableResultSettingsMap": {},
     "title": ""
    }
   },
   "outputs": [],
   "source": [
    "from pyspark.sql.functions import col, count, mean, stddev, min, max\n",
    "\n",
    "df_bronze = spark.read.table(BRONZE_TABLE)\n",
    "\n",
    "summary_stats = df_bronze.describe()\n",
    "display(summary_stats)\n",
    "\n",
    "display(df_bronze.filter(col('total_amount') > 0 ).count())\n",
    "#141.407 < 0\n",
    "#2.739 == 0\n",
    "#16.042.240 > 0\n",
    "\n",
    "display(df_bronze.filter(col('passenger_count') > 0 ).count())\n",
    "#0 < 0\n",
    "#273.481 == 0\n",
    "#15.484.240 > 0\n",
    "\n",
    "\n",
    "df_silver = spark.read.table(SILVER_TABLE)\n",
    "\n",
    "summary_stats = df_silver.describe()\n",
    "display(summary_stats)\n",
    "\n",
    "\n",
    "\n"
   ]
  },
  {
   "cell_type": "code",
   "execution_count": 0,
   "metadata": {
    "application/vnd.databricks.v1+cell": {
     "cellMetadata": {
      "byteLimit": 2048000,
      "rowLimit": 10000
     },
     "inputWidgets": {},
     "nuid": "8b2b5c3b-d299-4e5a-a6de-3da87a806767",
     "showTitle": false,
     "tableResultSettingsMap": {},
     "title": ""
    }
   },
   "outputs": [],
   "source": [
    "\n",
    "\n",
    "df = spark.read.parquet(\"/Volumes/workspace/default/landing/nyc_taxi_trip_records/green_tripdata_2023-02.parquet\")\n",
    "\n",
    "summary_stats = df.describe()\n",
    "display(summary_stats)"
   ]
  },
  {
   "cell_type": "code",
   "execution_count": 0,
   "metadata": {
    "application/vnd.databricks.v1+cell": {
     "cellMetadata": {
      "byteLimit": 2048000,
      "rowLimit": 10000
     },
     "inputWidgets": {},
     "nuid": "32ccf9f2-f1b9-4afb-a80f-ecd9d913e950",
     "showTitle": false,
     "tableResultSettingsMap": {},
     "title": ""
    }
   },
   "outputs": [],
   "source": [
    "landing_path = \"/Volumes/workspace/default/landing/nyc_taxi_trip_records/\"\n",
    "files = [f.path for f in dbutils.fs.ls(landing_path) if f.path.endswith(\".parquet\")]\n",
    "\n",
    "for fp in files:\n",
    "    print(f\"\\n=== Schema de {fp} ===\")\n",
    "    spark.read.parquet(fp).describe()"
   ]
  }
 ],
 "metadata": {
  "application/vnd.databricks.v1+notebook": {
   "computePreferences": null,
   "dashboards": [],
   "environmentMetadata": {
    "base_environment": "",
    "environment_version": "2"
   },
   "inputWidgetPreferences": null,
   "language": "python",
   "notebookMetadata": {
    "pythonIndentUnit": 4
   },
   "notebookName": "EDA",
   "widgets": {}
  },
  "language_info": {
   "name": "python"
  }
 },
 "nbformat": 4,
 "nbformat_minor": 0
}
